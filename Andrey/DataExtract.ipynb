{
 "cells": [
  {
   "cell_type": "markdown",
   "metadata": {},
   "source": [
    "# Sumatra export"
   ]
  },
  {
   "cell_type": "code",
   "execution_count": 195,
   "metadata": {
    "collapsed": false
   },
   "outputs": [],
   "source": [
    "import json\n",
    "import pandas\n",
    "import numpy as np\n",
    "\n",
    "!smt export\n",
    "with open('.smt/records_export.json') as ff:\n",
    "    data = json.load(ff)\n",
    "    \n",
    "with open('record1.json', 'w') as record1:\n",
    "    for entry in range(len(data)):\n",
    "        record1.write(json.dumps(data[entry], sort_keys=True, indent=4, separators=(',', ': ')))\n",
    "\n",
    "df = pandas.DataFrame(data)  #df is now the sumatra dataframe"
   ]
  },
  {
   "cell_type": "markdown",
   "metadata": {},
   "source": [
    "# Extractor() : "
   ]
  },
  {
   "cell_type": "markdown",
   "metadata": {},
   "source": [
    "This method finds the simulations which have a single \".mpz.npz\" file in their Data/ folder and gets all the information out of that file into a dataframe"
   ]
  },
  {
   "cell_type": "code",
   "execution_count": 176,
   "metadata": {
    "collapsed": false
   },
   "outputs": [
    {
     "name": "stdout",
     "output_type": "stream",
     "text": [
      "1a10x1step30.npz\n",
      "0    48841eea4a91\n",
      "1    da25c86b72f0\n",
      "2    bf22b1bfaef6\n",
      "3    7f52183544f2\n",
      "4    47235abe3a7b\n",
      "Name: label, dtype: object\n"
     ]
    },
    {
     "data": {
      "text/html": [
       "<div>\n",
       "<table border=\"1\" class=\"dataframe\">\n",
       "  <thead>\n",
       "    <tr style=\"text-align: right;\">\n",
       "      <th></th>\n",
       "      <th>label</th>\n",
       "      <th>f</th>\n",
       "      <th>steps</th>\n",
       "      <th>time</th>\n",
       "      <th>N</th>\n",
       "      <th>cvar</th>\n",
       "      <th>cvarInterp</th>\n",
       "      <th>x</th>\n",
       "      <th>y</th>\n",
       "    </tr>\n",
       "  </thead>\n",
       "  <tbody>\n",
       "    <tr>\n",
       "      <th>0</th>\n",
       "      <td>7f52183544f2</td>\n",
       "      <td>0.786513270533</td>\n",
       "      <td>32</td>\n",
       "      <td>1.0</td>\n",
       "      <td>10</td>\n",
       "      <td>[0.518911886971, 0.521427016706, 0.52280435362...</td>\n",
       "      <td>None</td>\n",
       "      <td>[10.0, 30.0, 50.0, 70.0, 90.0, 110.0, 130.0, 1...</td>\n",
       "      <td>[10.0, 10.0, 10.0, 10.0, 10.0, 10.0, 10.0, 10....</td>\n",
       "    </tr>\n",
       "  </tbody>\n",
       "</table>\n",
       "</div>"
      ],
      "text/plain": [
       "          label               f steps time   N  \\\n",
       "0  7f52183544f2  0.786513270533    32  1.0  10   \n",
       "\n",
       "                                                cvar cvarInterp  \\\n",
       "0  [0.518911886971, 0.521427016706, 0.52280435362...       None   \n",
       "\n",
       "                                                   x  \\\n",
       "0  [10.0, 30.0, 50.0, 70.0, 90.0, 110.0, 130.0, 1...   \n",
       "\n",
       "                                                   y  \n",
       "0  [10.0, 10.0, 10.0, 10.0, 10.0, 10.0, 10.0, 10....  "
      ]
     },
     "execution_count": 176,
     "metadata": {},
     "output_type": "execute_result"
    }
   ],
   "source": [
    "import glob\n",
    "import os\n",
    "import fipy as fp\n",
    "\n",
    "# print df['output_data'][0][-2]['path']\n",
    "# df['datastore'][0]['parameters']['root']  #alternative method to get data directory\n",
    "\n",
    "labels = []\n",
    "\n",
    "labels = df['label']\n",
    "print labels\n",
    "\n",
    "dfC = pandas.DataFrame(columns=['label','f','steps','time', 'N', 'cvar', 'cvarInterp', 'x', 'y'])\n",
    "\n",
    "def extractor(labelz, Lx=200):  #will work as long as there is 1 .mpz.npz file in the simulation directory\n",
    "    rows = 0\n",
    "    for lbl in labelz:\n",
    "        dictt = {} #create a dictionary to fill in with simulation data\n",
    "        dictt.update({'label':lbl})\n",
    "        datapath = os.path.join('/data/aem1/new1a/surf-research/Andrey/Data', lbl)\n",
    "        mfile = glob.glob('{0}/*.mpz.npz'.format(datapath)) #get the name of the mpz file with data we need\n",
    "        \n",
    "        if len(mfile)==1:\n",
    "            fn = np.load(mfile[0])\n",
    "            for item in fn:\n",
    "                dictt.update({str(item):fn[item]}) #add every variable from the file into the dictionary\n",
    "            dictt.update({'cvarInterp':None}) #create a blank column for later\n",
    "            \n",
    "            #now we need the x and y coordinates for interpolation to match the grid size\n",
    "            N = dictt['N']\n",
    "            m = fp.Grid2D(nx = N, ny= N, dx=Lx / N, dy=Lx / N)\n",
    "            dictt.update({'x':m.x})\n",
    "            dictt.update({'y':m.y})\n",
    "            dfC.loc[rows]=dictt        \n",
    "\n",
    "    return dfC #dfC is a compact dataframe with all the information we need\n",
    "        \n",
    "extractor(labels)"
   ]
  },
  {
   "cell_type": "markdown",
   "metadata": {},
   "source": [
    "# cvar Interpolation"
   ]
  },
  {
   "cell_type": "markdown",
   "metadata": {},
   "source": [
    "The method below will take the datafram which is created by the extractor() above and save the interpolation function into the dataframe"
   ]
  },
  {
   "cell_type": "code",
   "execution_count": 208,
   "metadata": {
    "collapsed": false
   },
   "outputs": [
    {
     "name": "stdout",
     "output_type": "stream",
     "text": [
      "<scipy.interpolate.interpolate.interp2d object at 0x7f1f04811e50>\n"
     ]
    }
   ],
   "source": [
    "from scipy import interpolate as scpinter    \n",
    "\n",
    "def cvarInterp(cvarFrame):\n",
    "    for variables in dfC.iterrows():\n",
    "        x = variables[1]['x'] #get the variables needed for interpolation\n",
    "        y = variables[1]['y']\n",
    "        cvar = variables[1]['cvar']\n",
    "        function = scpinter.interp2d(x, y, cvar, copy=False)\n",
    "        variables[1]['cvarInterp'] = function #set the interpolated function into the dataframe column\n",
    "        \n",
    "cvarInterp(dfC)"
   ]
  },
  {
   "cell_type": "markdown",
   "metadata": {},
   "source": [
    "# cvar Figures of Merit"
   ]
  },
  {
   "cell_type": "markdown",
   "metadata": {},
   "source": [
    "Now we have everything we need in the dataframe and can compare the different grid sizes, calculate L2 using cvar etc"
   ]
  },
  {
   "cell_type": "code",
   "execution_count": null,
   "metadata": {
    "collapsed": true
   },
   "outputs": [],
   "source": [
    "cvar_times = []\n",
    "def CvarCompare(dframe, params.json, cvar_times):\n",
    "    return True"
   ]
  },
  {
   "cell_type": "markdown",
   "metadata": {},
   "source": [
    "# Free Energy Interpolation"
   ]
  },
  {
   "cell_type": "markdown",
   "metadata": {},
   "source": [
    "For this section, we have to take the elapsed time and cvar from each step file, calculate the energy at that step, then interpolate the array of energies along with time. Save the intepolated function into the SUMATRA dataframe"
   ]
  },
  {
   "cell_type": "code",
   "execution_count": 223,
   "metadata": {
    "collapsed": false
   },
   "outputs": [
    {
     "name": "stdout",
     "output_type": "stream",
     "text": [
      "[None]\n",
      " \n",
      "48841eea4a91\n",
      "da25c86b72f0\n",
      "bf22b1bfaef6\n",
      "7f52183544f2\n",
      "47235abe3a7b\n"
     ]
    },
    {
     "data": {
      "text/plain": [
       "2    {u'type': u'FileSystemDataStore', u'parameters...\n",
       "Name: datastore, dtype: object"
      ]
     },
     "execution_count": 223,
     "metadata": {},
     "output_type": "execute_result"
    }
   ],
   "source": [
    "energyFunctions = []\n",
    "energyFunctions.append(None)\n",
    "print energyFunctions\n",
    "print ' '\n",
    "for row in df.iterrows():\n",
    "    print row[1]['label']\n",
    "    \n",
    "df\n",
    "\n",
    "#How to select a specific row and then you can change the values in it's columns\n",
    "df.loc[df['label']=='bf22b1bfaef6']['datastore']"
   ]
  },
  {
   "cell_type": "code",
   "execution_count": null,
   "metadata": {
    "collapsed": false,
    "scrolled": true
   },
   "outputs": [],
   "source": [
    "import os\n",
    "import numpy as np\n",
    "from scipy import interpolate as scpinter\n",
    "\n",
    "results = {}\n",
    "c_alpha = 0.3\n",
    "c_beta = 0.7\n",
    "kappa = 2.0\n",
    "# M = 5.0\n",
    "# c_0 = 0.5\n",
    "# epsilon = 0.01\n",
    "rho_s = 5.0\n",
    "\n",
    "def f_0(c):\n",
    "    return rho_s*((c - c_alpha)**2)*((c_beta-c)**2)\n",
    "\n",
    "def f(c):\n",
    "    return (f_0(c)+ .5*kappa*(c.grad.mag)**2)\n",
    "\n",
    "\n",
    "def freeEnergyInterp(labels, dframe, Lx = 200):\n",
    "    energyFunctions = []\n",
    "    #This code will access every step file saved in the Data/[label] directory \n",
    "    for label in dframe['label']:\n",
    "        e_elaps = []\n",
    "        e_enrg = []\n",
    "        filepath = os.path.join('/data/aem1/new1a/surf-research/Andrey/Data', label)\n",
    "        #gets the last step file in the directory (hopefully at equillibrium)\n",
    "        file = os.listdir('Data/{0}'.format(label))[len(os.listdir('Data/{0}'.format(label)))-2] \n",
    "        stepfiles = glob.glob('{0}/*0.npz'.format(datapath)) #get the list of step files for simulation\n",
    "        if len(stepfiles)==0: \n",
    "            energyFunctions.append(None)\n",
    "        else:\n",
    "            for stpfile in stepfiles:\n",
    "                fn = np.load(stpfile)\n",
    "                #do free enrgy math here\n",
    "\n",
    "\n",
    "                cells = stpfile['N']**2\n",
    "                dx = Lx / fn['N']\n",
    "                f(c_var).cellVolumeAverage*cells*(dx**2)\n",
    "\n",
    "\n",
    "                e_elaps.append[fn['elapsed']]\n",
    "                e_enrg.append[energy]\n",
    "\n",
    "            eFunction = scpinter.interp1d(e_elaps, e_enrg copy=False)\n",
    "            energyFunctions.append(eFunction) #save a list of all the energy functions\n",
    "            \n",
    "        dFrame['Free_Energy_Function'] = energyFunctions #add the list as a new column to the dataframe\n",
    "\n",
    "\n",
    "#             data = {'cvar':fn['cvar'], 'freeEn':float(fn['f']), 'step':int(fn['steps']), 'elapsed':float(fn['time'])}\n",
    "#     #         print type(data)\n",
    "#     #         print type(str(fn['grid']))\n",
    "#             results.update({str(fn['grid']):data})\n"
   ]
  },
  {
   "cell_type": "markdown",
   "metadata": {},
   "source": [
    "# Figures of Merit"
   ]
  },
  {
   "cell_type": "markdown",
   "metadata": {},
   "source": [
    "Now we need to use methods to add some figures of merit to the dataframes to compare the grids to the 400 grid"
   ]
  },
  {
   "cell_type": "code",
   "execution_count": null,
   "metadata": {
    "collapsed": true
   },
   "outputs": [],
   "source": [
    "for row in df.iterrows():"
   ]
  },
  {
   "cell_type": "code",
   "execution_count": 219,
   "metadata": {
    "collapsed": false
   },
   "outputs": [
    {
     "ename": "IndentationError",
     "evalue": "expected an indented block (<ipython-input-219-2a4d61f10dc9>, line 4)",
     "output_type": "error",
     "traceback": [
      "\u001b[1;36m  File \u001b[1;32m\"<ipython-input-219-2a4d61f10dc9>\"\u001b[1;36m, line \u001b[1;32m4\u001b[0m\n\u001b[1;33m    def FreeEnergyCompare(dframe, ideal_times):\u001b[0m\n\u001b[1;37m                                               ^\u001b[0m\n\u001b[1;31mIndentationError\u001b[0m\u001b[1;31m:\u001b[0m expected an indented block\n"
     ]
    }
   ],
   "source": [
    "#add moose data as well\n",
    "#Add a method to check for equal parameters between runs of different grid sizes\n",
    "\n",
    "ideal_times = []\n",
    "for i in range(160): ideal_times.append(i)\n",
    "    \n",
    "def FreeEnergyCompare(dframe, ideal_times, params.json):\n",
    "    L1Norms = [] #should these be dictionaries to match with the proper simulation label? \n",
    "    L2Norms = []\n",
    "    LinfNorms = []\n",
    "    \n",
    "    #Need to put in checks to make sure all the parameters are the same for the simulation between different gird sizes\n",
    "    #there could be a table of 20 simulations and we need to make sure the simulations get grouped properly\n",
    "    # maybe add a json file parameter to each function? check if the df['params'] matches with the json file\n",
    "    for row in dframe.iterrows():\n",
    "        if row[1]['N']==400 and ParamsCheck(dfram, params.json)==True:\n",
    "            energyFunct400 = row[1]['Free_Energy_Function']\n",
    "    for row in dframe.iterrows():    \n",
    "        if ParamsCheck(dfram, params.json)==True:\n",
    "            efunction = row[1]['Free_Energy_Function']\n",
    "            diff = np.absolute(efunction[ideal_times] - energyFunct400[ideal_times])\n",
    "            L1Norms.append(np.linalg.norm(diff,1)) #maybe add as dictionary with a matching label\n",
    "            L2Norms.append(np.linalg.norm(diff,2)) #maybe add as dictionary with a matching label\n",
    "            LinfNorms.append(np.linalg.norm(diff, np.inf)) #maybe add as dictionary with a matching label\n",
    "    \n",
    "    \n",
    "    \n",
    "    #Anushkas code\n",
    "#     diff_50.append(np.absolute(y50x4[ideal_times] - y400x5[ideal_times]))\n",
    "#     L1Norms.append(np.linalg.norm(diff_50,1))\n",
    "#     L2Norms.append(np.linalg.norm(diff_50,2))\n",
    "#     LinfNorms.append(np.linalg.norm(diff_50, np.inf))\n",
    "    "
   ]
  },
  {
   "cell_type": "code",
   "execution_count": 36,
   "metadata": {
    "collapsed": false,
    "scrolled": true
   },
   "outputs": [
    {
     "data": {
      "text/plain": [
       "0.7865168606271677"
      ]
     },
     "execution_count": 36,
     "metadata": {},
     "output_type": "execute_result"
    }
   ],
   "source": [
    "results['10x1']['freeEn']"
   ]
  },
  {
   "cell_type": "code",
   "execution_count": 30,
   "metadata": {
    "collapsed": false
   },
   "outputs": [
    {
     "name": "stdout",
     "output_type": "stream",
     "text": [
      "4\n"
     ]
    }
   ],
   "source": [
    "print len(df['output_data'][0])"
   ]
  },
  {
   "cell_type": "code",
   "execution_count": 31,
   "metadata": {
    "collapsed": true
   },
   "outputs": [],
   "source": [
    "for p in 'N', 'steps', 'sweeps':\n",
    "    df[p] = df.parameters.map(lambda x: json.loads(x['content'])[p])"
   ]
  },
  {
   "cell_type": "code",
   "execution_count": null,
   "metadata": {
    "collapsed": false
   },
   "outputs": [],
   "source": [
    "print df['parameters'][0]['content']"
   ]
  },
  {
   "cell_type": "code",
   "execution_count": 37,
   "metadata": {
    "collapsed": false
   },
   "outputs": [
    {
     "data": {
      "text/html": [
       "<div>\n",
       "<table border=\"1\" class=\"dataframe\">\n",
       "  <thead>\n",
       "    <tr style=\"text-align: right;\">\n",
       "      <th></th>\n",
       "      <th>label</th>\n",
       "      <th>N</th>\n",
       "      <th>steps</th>\n",
       "      <th>tags</th>\n",
       "      <th>duration</th>\n",
       "      <th>sweeps</th>\n",
       "      <th>memory</th>\n",
       "      <th>Free Energy</th>\n",
       "      <th>elapsed</th>\n",
       "    </tr>\n",
       "  </thead>\n",
       "  <tbody>\n",
       "    <tr>\n",
       "      <th>0</th>\n",
       "      <td>8f1f49c60b96</td>\n",
       "      <td>10</td>\n",
       "      <td>20</td>\n",
       "      <td>[npzTest]</td>\n",
       "      <td>4.042712</td>\n",
       "      <td>2</td>\n",
       "      <td>4648.0</td>\n",
       "      <td>0.786517</td>\n",
       "      <td>0.57275</td>\n",
       "    </tr>\n",
       "  </tbody>\n",
       "</table>\n",
       "</div>"
      ],
      "text/plain": [
       "          label   N  steps       tags  duration  sweeps  memory  Free Energy  \\\n",
       "0  8f1f49c60b96  10     20  [npzTest]  4.042712       2  4648.0     0.786517   \n",
       "\n",
       "   elapsed  \n",
       "0  0.57275  "
      ]
     },
     "execution_count": 37,
     "metadata": {},
     "output_type": "execute_result"
    }
   ],
   "source": [
    "df['Free Energy']=results['10x1']['freeEn']\n",
    "df['elapsed']=results['10x1']['elapsed']\n",
    "\n",
    "columns.append('Free Energy')\n",
    "columns.append('elapsed')\n",
    "df[columns]"
   ]
  },
  {
   "cell_type": "code",
   "execution_count": 33,
   "metadata": {
    "collapsed": false
   },
   "outputs": [
    {
     "name": "stdout",
     "output_type": "stream",
     "text": [
      "          label   N  steps       tags  duration  sweeps\n",
      "0  8f1f49c60b96  10     20  [npzTest]  4.042712       2\n"
     ]
    }
   ],
   "source": [
    "columns = ['label', 'N', 'steps', 'tags', 'duration', 'sweeps']\n",
    "print df[columns]"
   ]
  },
  {
   "cell_type": "code",
   "execution_count": 34,
   "metadata": {
    "collapsed": false
   },
   "outputs": [
    {
     "name": "stdout",
     "output_type": "stream",
     "text": [
      "[ 4648.]\n",
      " \n",
      "0\n"
     ]
    }
   ],
   "source": [
    "import numpy as np\n",
    "import os\n",
    "num = 0\n",
    "memoryArray = np.array([])\n",
    "for num in range(len(df.index)):\n",
    "    memName = df['output_data'][num][len(df['output_data'][num])-1]['path']\n",
    "    memlocation = df['datastore'][num]['parameters']['root']\n",
    "    pool = os.path.join(memlocation, memName)\n",
    "    memdata = np.loadtxt(pool)\n",
    "    memoryArray = np.append(memoryArray, memdata)\n",
    "    print memoryArray\n",
    "    print ' '\n",
    "    print num"
   ]
  },
  {
   "cell_type": "code",
   "execution_count": 35,
   "metadata": {
    "collapsed": false
   },
   "outputs": [
    {
     "data": {
      "text/html": [
       "<div>\n",
       "<table border=\"1\" class=\"dataframe\">\n",
       "  <thead>\n",
       "    <tr style=\"text-align: right;\">\n",
       "      <th></th>\n",
       "      <th>label</th>\n",
       "      <th>N</th>\n",
       "      <th>steps</th>\n",
       "      <th>tags</th>\n",
       "      <th>duration</th>\n",
       "      <th>sweeps</th>\n",
       "      <th>memory</th>\n",
       "    </tr>\n",
       "  </thead>\n",
       "  <tbody>\n",
       "    <tr>\n",
       "      <th>0</th>\n",
       "      <td>8f1f49c60b96</td>\n",
       "      <td>10</td>\n",
       "      <td>20</td>\n",
       "      <td>[npzTest]</td>\n",
       "      <td>4.042712</td>\n",
       "      <td>2</td>\n",
       "      <td>4648.0</td>\n",
       "    </tr>\n",
       "  </tbody>\n",
       "</table>\n",
       "</div>"
      ],
      "text/plain": [
       "          label   N  steps       tags  duration  sweeps  memory\n",
       "0  8f1f49c60b96  10     20  [npzTest]  4.042712       2  4648.0"
      ]
     },
     "execution_count": 35,
     "metadata": {},
     "output_type": "execute_result"
    }
   ],
   "source": [
    "df['memory']=memoryArray\n",
    "columns.append('memory')\n",
    "df[columns]"
   ]
  },
  {
   "cell_type": "code",
   "execution_count": 38,
   "metadata": {
    "collapsed": false
   },
   "outputs": [
    {
     "data": {
      "text/html": [
       "<div>\n",
       "<table border=\"1\" class=\"dataframe\">\n",
       "  <thead>\n",
       "    <tr style=\"text-align: right;\">\n",
       "      <th></th>\n",
       "      <th>a</th>\n",
       "      <th>b</th>\n",
       "    </tr>\n",
       "  </thead>\n",
       "  <tbody>\n",
       "    <tr>\n",
       "      <th>0</th>\n",
       "      <td>1</td>\n",
       "      <td>4</td>\n",
       "    </tr>\n",
       "    <tr>\n",
       "      <th>1</th>\n",
       "      <td>2</td>\n",
       "      <td>5</td>\n",
       "    </tr>\n",
       "    <tr>\n",
       "      <th>2</th>\n",
       "      <td>3</td>\n",
       "      <td>6</td>\n",
       "    </tr>\n",
       "  </tbody>\n",
       "</table>\n",
       "</div>"
      ],
      "text/plain": [
       "   a  b\n",
       "0  1  4\n",
       "1  2  5\n",
       "2  3  6"
      ]
     },
     "execution_count": 38,
     "metadata": {},
     "output_type": "execute_result"
    }
   ],
   "source": [
    "data = {'a' : [1, 2, 3], 'b' : [4, 5, 6]}\n",
    "pandas.DataFrame(data)"
   ]
  },
  {
   "cell_type": "code",
   "execution_count": 59,
   "metadata": {
    "collapsed": false
   },
   "outputs": [],
   "source": [
    "data = [{'a' : 1, 'b' : 4}, {'a' : 2, 'b' : 5}, {'a' : 3 ,'b' : 6}]\n",
    "aa  = pandas.DataFrame(data)"
   ]
  },
  {
   "cell_type": "code",
   "execution_count": 60,
   "metadata": {
    "collapsed": false
   },
   "outputs": [],
   "source": [
    "def recalc(row):\n",
    "    return row.b * 2"
   ]
  },
  {
   "cell_type": "code",
   "execution_count": 61,
   "metadata": {
    "collapsed": false
   },
   "outputs": [
    {
     "name": "stdout",
     "output_type": "stream",
     "text": [
      "   a  b\n",
      "0  1  4\n",
      "1  2  5\n",
      "2  3  6\n"
     ]
    }
   ],
   "source": [
    "print aa"
   ]
  },
  {
   "cell_type": "code",
   "execution_count": null,
   "metadata": {
    "collapsed": false
   },
   "outputs": [],
   "source": [
    "aa['c'] = [recalc(row) for index, row in aa.iterrows()]\n",
    "print aa"
   ]
  },
  {
   "cell_type": "code",
   "execution_count": 73,
   "metadata": {
    "collapsed": true
   },
   "outputs": [],
   "source": [
    "times = np.array([0., 1.0, 1.5])\n",
    "values = times**2\n"
   ]
  },
  {
   "cell_type": "code",
   "execution_count": null,
   "metadata": {
    "collapsed": false
   },
   "outputs": [],
   "source": [
    "%matplotlib inline\n",
    "import matplotlib.pyplot as plt\n",
    "plt.plot(times, values)"
   ]
  },
  {
   "cell_type": "code",
   "execution_count": null,
   "metadata": {
    "collapsed": false
   },
   "outputs": [],
   "source": [
    "import numpy as np\n",
    "np.linspace(0., 100., 1000)"
   ]
  },
  {
   "cell_type": "code",
   "execution_count": 83,
   "metadata": {
    "collapsed": false
   },
   "outputs": [
    {
     "name": "stdout",
     "output_type": "stream",
     "text": [
      "1a10x1step0.npz  1a10x1step10.npz  1a10x1step20.npz  memory_usage.txt\r\n"
     ]
    },
    {
     "data": {
      "text/plain": [
       "['Data/1de38ff12ec7/1a10x1step0.npz',\n",
       " 'Data/1de38ff12ec7/1a10x1step10.npz',\n",
       " 'Data/1de38ff12ec7/1a10x1step20.npz']"
      ]
     },
     "execution_count": 83,
     "metadata": {},
     "output_type": "execute_result"
    }
   ],
   "source": [
    "!ls Data/1de38ff12ec7/\n",
    "import glob\n",
    "glob.glob('Data/1de38ff12ec7/*.npz')"
   ]
  },
  {
   "cell_type": "code",
   "execution_count": null,
   "metadata": {
    "collapsed": true
   },
   "outputs": [],
   "source": []
  }
 ],
 "metadata": {
  "kernelspec": {
   "display_name": "Python 2",
   "language": "python",
   "name": "python2"
  },
  "language_info": {
   "codemirror_mode": {
    "name": "ipython",
    "version": 2
   },
   "file_extension": ".py",
   "mimetype": "text/x-python",
   "name": "python",
   "nbconvert_exporter": "python",
   "pygments_lexer": "ipython2",
   "version": "2.7.11"
  }
 },
 "nbformat": 4,
 "nbformat_minor": 0
}
