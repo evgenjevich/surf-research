{
 "cells": [
  {
   "cell_type": "code",
   "execution_count": null,
   "metadata": {
    "collapsed": true
   },
   "outputs": [],
   "source": [
    "import json\n",
    "import pandas\n",
    "\n",
    "!smt export\n",
    "with open('.smt/records_export.json') as ff:\n",
    "    data = json.load(ff)\n",
    "    \n",
    "with open('record1.json', 'w') as record1:\n",
    "    for entry in range(len(data)):\n",
    "        record1.write(json.dumps(data[entry], sort_keys=True, indent=4, separators=(',', ': ')))\n",
    "\n",
    "df = pandas.DataFrame(data)"
   ]
  },
  {
   "cell_type": "code",
   "execution_count": null,
   "metadata": {
    "collapsed": false
   },
   "outputs": [],
   "source": [
    "fn = np.load('/data/aem1/new1a/surf-research/Andrey/Data/1de38ff12ec7/1a10x1step20.npz')\n",
    "fn['time']\n",
    "# del results\n",
    "# print results"
   ]
  },
  {
   "cell_type": "code",
   "execution_count": null,
   "metadata": {
    "collapsed": false,
    "scrolled": true
   },
   "outputs": [],
   "source": [
    "import os\n",
    "import numpy as np\n",
    "\n",
    "results = {}\n",
    "\n",
    "#This code will access every step file saved in the Data/[label] directory \n",
    "for label in df['label']:\n",
    "    filepath = os.path.join('/data/aem1/new1a/surf-research/Andrey/Data', label)\n",
    "    #gets the last step file in the directory (hopefully at equillibrium)\n",
    "    file = os.listdir('Data/{0}'.format(label))[len(os.listdir('Data/{0}'.format(label)))-2] \n",
    "    if file == 'memory_usage.txt':\n",
    "        break #the memory file should always be the last one saved\n",
    "    else:\n",
    "        fn = np.load(os.path.join(filepath, file))\n",
    "        print file\n",
    "        size = file[2 : file.find('s')] #the grid size based on filename\n",
    "        appender = {}\n",
    "        #for every simulation time, create a dictionary entry to match the cvar values at that time\n",
    "        for x in xrange(len(fn['time'])):\n",
    "            appender.update({fn['time'][x]:fn['c_var'][x]})\n",
    "            \n",
    "        print fn[\"time\"]\n",
    "\n",
    "        #add a dictionary entry to associate the size of the grids with the dictionaries of times and their cvar outputs\n",
    "        results.update({size:appender})\n",
    "        \n",
    "print results['14x1']\n",
    "#now we can load this dictionary into a dataframe or interpolate"
   ]
  },
  {
   "cell_type": "code",
   "execution_count": null,
   "metadata": {
    "collapsed": false,
    "scrolled": true
   },
   "outputs": [],
   "source": [
    "fn['time']"
   ]
  },
  {
   "cell_type": "code",
   "execution_count": null,
   "metadata": {
    "collapsed": false
   },
   "outputs": [],
   "source": [
    "print len(df['output_data'][0])"
   ]
  },
  {
   "cell_type": "code",
   "execution_count": null,
   "metadata": {
    "collapsed": true
   },
   "outputs": [],
   "source": [
    "for p in 'N', 'steps', 'sweeps':\n",
    "    df[p] = df.parameters.map(lambda x: json.loads(x['content'])[p])"
   ]
  },
  {
   "cell_type": "code",
   "execution_count": null,
   "metadata": {
    "collapsed": false
   },
   "outputs": [],
   "source": [
    "print df['parameters'][0]['content']"
   ]
  },
  {
   "cell_type": "code",
   "execution_count": null,
   "metadata": {
    "collapsed": false
   },
   "outputs": [],
   "source": [
    "df"
   ]
  },
  {
   "cell_type": "code",
   "execution_count": null,
   "metadata": {
    "collapsed": false
   },
   "outputs": [],
   "source": [
    "columns = ['label', 'N', 'steps', 'tags', 'duration', 'sweeps']\n",
    "print df[columns]"
   ]
  },
  {
   "cell_type": "code",
   "execution_count": null,
   "metadata": {
    "collapsed": false
   },
   "outputs": [],
   "source": [
    "import numpy as np\n",
    "import os\n",
    "num = 0\n",
    "memoryArray = np.array([])\n",
    "for num in range(len(df.index)):\n",
    "    memName = df['output_data'][num][len(df['output_data'][num])-1]['path']\n",
    "    memlocation = df['datastore'][num]['parameters']['root']\n",
    "    pool = os.path.join(memlocation, memName)\n",
    "    memdata = np.loadtxt(pool)\n",
    "    memoryArray = np.append(memoryArray, memdata)\n",
    "    print memoryArray\n",
    "    print ' '\n",
    "    print num"
   ]
  },
  {
   "cell_type": "code",
   "execution_count": null,
   "metadata": {
    "collapsed": false
   },
   "outputs": [],
   "source": [
    "df['memory']=memoryArray\n",
    "columns.append('memory')\n",
    "df[columns]"
   ]
  },
  {
   "cell_type": "code",
   "execution_count": null,
   "metadata": {
    "collapsed": true
   },
   "outputs": [],
   "source": []
  }
 ],
 "metadata": {
  "kernelspec": {
   "display_name": "Python 2",
   "language": "python",
   "name": "python2"
  },
  "language_info": {
   "codemirror_mode": {
    "name": "ipython",
    "version": 2
   },
   "file_extension": ".py",
   "mimetype": "text/x-python",
   "name": "python",
   "nbconvert_exporter": "python",
   "pygments_lexer": "ipython2",
   "version": "2.7.11"
  }
 },
 "nbformat": 4,
 "nbformat_minor": 0
}
