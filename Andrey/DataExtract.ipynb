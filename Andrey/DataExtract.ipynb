{
 "cells": [
  {
   "cell_type": "code",
   "execution_count": 97,
   "metadata": {
    "collapsed": false
   },
   "outputs": [],
   "source": [
    "import json\n",
    "import pandas\n",
    "import numpy as np\n",
    "\n",
    "!smt export\n",
    "with open('.smt/records_export.json') as ff:\n",
    "    data = json.load(ff)\n",
    "    \n",
    "with open('record1.json', 'w') as record1:\n",
    "    for entry in range(len(data)):\n",
    "        record1.write(json.dumps(data[entry], sort_keys=True, indent=4, separators=(',', ': ')))\n",
    "\n",
    "df = pandas.DataFrame(data)"
   ]
  },
  {
   "cell_type": "code",
   "execution_count": 128,
   "metadata": {
    "collapsed": false
   },
   "outputs": [
    {
     "name": "stdout",
     "output_type": "stream",
     "text": [
      "0    48841eea4a91\n",
      "1    da25c86b72f0\n",
      "2    bf22b1bfaef6\n",
      "3    7f52183544f2\n",
      "4    47235abe3a7b\n",
      "Name: label, dtype: object\n",
      "[]\n",
      "[]\n",
      "[]\n",
      "['/data/aem1/new1a/surf-research/Andrey/Data/7f52183544f2/1a10step32.mpz.npz']\n",
      "{'cvar': array([ 0.51891189,  0.52142702,  0.52280435,  0.52252376,  0.52069104,\n",
      "        0.51799953,  0.51547484,  0.5140862 ,  0.51436936,  0.51621498,\n",
      "        0.52218654,  0.52470419,  0.52608155,  0.52579918,  0.52396339,\n",
      "        0.52126785,  0.51873938,  0.51734927,  0.51763456,  0.51948492,\n",
      "        0.52415736,  0.5266735 ,  0.52804966,  0.5277673 ,  0.52593262,\n",
      "        0.52323838,  0.5207107 ,  0.51932092,  0.51960641,  0.52145664,\n",
      "        0.52408197,  0.52659408,  0.52796882,  0.52768814,  0.52585763,\n",
      "        0.52316849,  0.5206449 ,  0.51925662,  0.51954039,  0.52138637,\n",
      "        0.52198872,  0.52449576,  0.52586934,  0.5255914 ,  0.52376657,\n",
      "        0.52108446,  0.51856678,  0.5171806 ,  0.51746141,  0.51930059,\n",
      "        0.51866652,  0.5211684 ,  0.522541  ,  0.52226591,  0.52044686,\n",
      "        0.51777209,  0.51526085,  0.51387713,  0.51415472,  0.51598642,\n",
      "        0.51537892,  0.51787695,  0.51924883,  0.51897569,  0.51716069,\n",
      "        0.51449136,  0.51198521,  0.51060367,  0.51087896,  0.51270494,\n",
      "        0.51338848,  0.51588611,  0.51725814,  0.51698522,  0.51517052,\n",
      "        0.51250195,  0.50999694,  0.50861612,  0.50889098,  0.51071567,\n",
      "        0.51346469,  0.51596648,  0.51734001,  0.51706537,  0.51524639,\n",
      "        0.51257258,  0.51006336,  0.50868098,  0.50895758,  0.51078662,\n",
      "        0.51557806,  0.51808692,  0.51946269,  0.51918507,  0.51735893,\n",
      "        0.51467594,  0.51215882,  0.51077325,  0.51105306,  0.51289037]), 'steps': array(32), 'time': array(1.0), 'f': array(0.7865132705328062), 'label': u'7f52183544f2', 'N': array(10)}\n",
      "[]\n"
     ]
    },
    {
     "data": {
      "text/html": [
       "<div>\n",
       "<table border=\"1\" class=\"dataframe\">\n",
       "  <thead>\n",
       "    <tr style=\"text-align: right;\">\n",
       "      <th></th>\n",
       "      <th>label</th>\n",
       "      <th>f</th>\n",
       "      <th>steps</th>\n",
       "      <th>time</th>\n",
       "      <th>N</th>\n",
       "      <th>cvar</th>\n",
       "    </tr>\n",
       "  </thead>\n",
       "  <tbody>\n",
       "    <tr>\n",
       "      <th>0</th>\n",
       "      <td>7f52183544f2</td>\n",
       "      <td>0.786513270533</td>\n",
       "      <td>32</td>\n",
       "      <td>1.0</td>\n",
       "      <td>10</td>\n",
       "      <td>[0.518911886971, 0.521427016706, 0.52280435362...</td>\n",
       "    </tr>\n",
       "  </tbody>\n",
       "</table>\n",
       "</div>"
      ],
      "text/plain": [
       "          label               f steps time   N  \\\n",
       "0  7f52183544f2  0.786513270533    32  1.0  10   \n",
       "\n",
       "                                                cvar  \n",
       "0  [0.518911886971, 0.521427016706, 0.52280435362...  "
      ]
     },
     "execution_count": 128,
     "metadata": {},
     "output_type": "execute_result"
    }
   ],
   "source": [
    "import glob\n",
    "import os\n",
    "\n",
    "df['output_data'][0][-2]['path']\n",
    "labels = []\n",
    "\n",
    "labels = df['label']\n",
    "print labels\n",
    "\n",
    "dfC = pandas.DataFrame(columns=['label','f','steps','time', 'N', 'cvar'])\n",
    "\n",
    "def extractor(labelz):  #will work as long as there is 1 .mpz.npz file in the simulation directory\n",
    "    rows = 0\n",
    "    for lbl in labelz:\n",
    "        dictt = {}\n",
    "        dictt.update({'label':lbl})\n",
    "        datapath = os.path.join('/data/aem1/new1a/surf-research/Andrey/Data', lbl)\n",
    "        mfile = glob.glob('{0}/*.mpz.npz'.format(datapath))\n",
    "#         print mfile\n",
    "        for flz in mfile:\n",
    "            fn = np.load(flz)\n",
    "            for item in fn:\n",
    "                dictt.update({str(item):fn[item]})\n",
    "#             print dictt\n",
    "            dfC.loc[rows]=dictt\n",
    "            \n",
    "            \n",
    "        \n",
    "# extractor(labels)\n",
    "\n",
    "# dfC"
   ]
  },
  {
   "cell_type": "code",
   "execution_count": 98,
   "metadata": {
    "collapsed": false
   },
   "outputs": [
    {
     "name": "stdout",
     "output_type": "stream",
     "text": [
      "N\n",
      "cvar\n",
      "f\n",
      "steps\n",
      "time\n"
     ]
    }
   ],
   "source": [
    "df\n",
    "results = {}\n",
    "list = {}\n",
    "fn = np.load('/data/aem1/new1a/surf-research/Andrey/Data/47235abe3a7b/1a10x1step20.npz')\n",
    "\n",
    "for x in fn:\n",
    "        print x\n",
    "# fn['time']\n",
    "# del results\n",
    "# print results"
   ]
  },
  {
   "cell_type": "code",
   "execution_count": null,
   "metadata": {
    "collapsed": false,
    "scrolled": true
   },
   "outputs": [],
   "source": [
    "import os\n",
    "import numpy as np\n",
    "\n",
    "results = {}\n",
    "\n",
    "#This code will access every step file saved in the Data/[label] directory \n",
    "for label in df['label']:\n",
    "    filepath = os.path.join('/data/aem1/new1a/surf-research/Andrey/Data', label)\n",
    "    #gets the last step file in the directory (hopefully at equillibrium)\n",
    "    file = os.listdir('Data/{0}'.format(label))[len(os.listdir('Data/{0}'.format(label)))-2] \n",
    "    if file == 'memory_usage.txt':\n",
    "        break #the memory file should always be the last one saved\n",
    "    else:\n",
    "        fn = np.load(os.path.join(filepath, file))\n",
    "        print file\n",
    "        size = file[2 : file.find('s')] #the grid size based on filename\n",
    "        \n",
    "#         appender = {}\n",
    "        #for every simulation time, create a dictionary entry to match the cvar values at that time\n",
    "#         for x in xrange(len(fn['time'])):\n",
    "#             appender.update({fn['time'][x]:fn['c_var'][x]})\n",
    "            \n",
    "        \n",
    "        \n",
    "        print fn[\"time\"]\n",
    "\n",
    "        #add a dictionary entry to associate the size of the grids with the dictionaries of times and their cvar outputs\n",
    "#         results.update({size:appender})\n",
    "        data = {'cvar':fn['cvar'], 'freeEn':float(fn['f']), 'step':int(fn['steps']), 'elapsed':float(fn['time'])}\n",
    "#         print type(data)\n",
    "#         print type(str(fn['grid']))\n",
    "        results.update({str(fn['grid']):data})\n",
    "        \n",
    "print results\n",
    "#now we can load this dictionary into a dataframe or interpolate"
   ]
  },
  {
   "cell_type": "code",
   "execution_count": 36,
   "metadata": {
    "collapsed": false,
    "scrolled": true
   },
   "outputs": [
    {
     "data": {
      "text/plain": [
       "0.7865168606271677"
      ]
     },
     "execution_count": 36,
     "metadata": {},
     "output_type": "execute_result"
    }
   ],
   "source": [
    "results['10x1']['freeEn']"
   ]
  },
  {
   "cell_type": "code",
   "execution_count": 30,
   "metadata": {
    "collapsed": false
   },
   "outputs": [
    {
     "name": "stdout",
     "output_type": "stream",
     "text": [
      "4\n"
     ]
    }
   ],
   "source": [
    "print len(df['output_data'][0])"
   ]
  },
  {
   "cell_type": "code",
   "execution_count": 31,
   "metadata": {
    "collapsed": true
   },
   "outputs": [],
   "source": [
    "for p in 'N', 'steps', 'sweeps':\n",
    "    df[p] = df.parameters.map(lambda x: json.loads(x['content'])[p])"
   ]
  },
  {
   "cell_type": "code",
   "execution_count": null,
   "metadata": {
    "collapsed": false
   },
   "outputs": [],
   "source": [
    "print df['parameters'][0]['content']"
   ]
  },
  {
   "cell_type": "code",
   "execution_count": 37,
   "metadata": {
    "collapsed": false
   },
   "outputs": [
    {
     "data": {
      "text/html": [
       "<div>\n",
       "<table border=\"1\" class=\"dataframe\">\n",
       "  <thead>\n",
       "    <tr style=\"text-align: right;\">\n",
       "      <th></th>\n",
       "      <th>label</th>\n",
       "      <th>N</th>\n",
       "      <th>steps</th>\n",
       "      <th>tags</th>\n",
       "      <th>duration</th>\n",
       "      <th>sweeps</th>\n",
       "      <th>memory</th>\n",
       "      <th>Free Energy</th>\n",
       "      <th>elapsed</th>\n",
       "    </tr>\n",
       "  </thead>\n",
       "  <tbody>\n",
       "    <tr>\n",
       "      <th>0</th>\n",
       "      <td>8f1f49c60b96</td>\n",
       "      <td>10</td>\n",
       "      <td>20</td>\n",
       "      <td>[npzTest]</td>\n",
       "      <td>4.042712</td>\n",
       "      <td>2</td>\n",
       "      <td>4648.0</td>\n",
       "      <td>0.786517</td>\n",
       "      <td>0.57275</td>\n",
       "    </tr>\n",
       "  </tbody>\n",
       "</table>\n",
       "</div>"
      ],
      "text/plain": [
       "          label   N  steps       tags  duration  sweeps  memory  Free Energy  \\\n",
       "0  8f1f49c60b96  10     20  [npzTest]  4.042712       2  4648.0     0.786517   \n",
       "\n",
       "   elapsed  \n",
       "0  0.57275  "
      ]
     },
     "execution_count": 37,
     "metadata": {},
     "output_type": "execute_result"
    }
   ],
   "source": [
    "df['Free Energy']=results['10x1']['freeEn']\n",
    "df['elapsed']=results['10x1']['elapsed']\n",
    "\n",
    "columns.append('Free Energy')\n",
    "columns.append('elapsed')\n",
    "df[columns]"
   ]
  },
  {
   "cell_type": "code",
   "execution_count": 33,
   "metadata": {
    "collapsed": false
   },
   "outputs": [
    {
     "name": "stdout",
     "output_type": "stream",
     "text": [
      "          label   N  steps       tags  duration  sweeps\n",
      "0  8f1f49c60b96  10     20  [npzTest]  4.042712       2\n"
     ]
    }
   ],
   "source": [
    "columns = ['label', 'N', 'steps', 'tags', 'duration', 'sweeps']\n",
    "print df[columns]"
   ]
  },
  {
   "cell_type": "code",
   "execution_count": 34,
   "metadata": {
    "collapsed": false
   },
   "outputs": [
    {
     "name": "stdout",
     "output_type": "stream",
     "text": [
      "[ 4648.]\n",
      " \n",
      "0\n"
     ]
    }
   ],
   "source": [
    "import numpy as np\n",
    "import os\n",
    "num = 0\n",
    "memoryArray = np.array([])\n",
    "for num in range(len(df.index)):\n",
    "    memName = df['output_data'][num][len(df['output_data'][num])-1]['path']\n",
    "    memlocation = df['datastore'][num]['parameters']['root']\n",
    "    pool = os.path.join(memlocation, memName)\n",
    "    memdata = np.loadtxt(pool)\n",
    "    memoryArray = np.append(memoryArray, memdata)\n",
    "    print memoryArray\n",
    "    print ' '\n",
    "    print num"
   ]
  },
  {
   "cell_type": "code",
   "execution_count": 35,
   "metadata": {
    "collapsed": false
   },
   "outputs": [
    {
     "data": {
      "text/html": [
       "<div>\n",
       "<table border=\"1\" class=\"dataframe\">\n",
       "  <thead>\n",
       "    <tr style=\"text-align: right;\">\n",
       "      <th></th>\n",
       "      <th>label</th>\n",
       "      <th>N</th>\n",
       "      <th>steps</th>\n",
       "      <th>tags</th>\n",
       "      <th>duration</th>\n",
       "      <th>sweeps</th>\n",
       "      <th>memory</th>\n",
       "    </tr>\n",
       "  </thead>\n",
       "  <tbody>\n",
       "    <tr>\n",
       "      <th>0</th>\n",
       "      <td>8f1f49c60b96</td>\n",
       "      <td>10</td>\n",
       "      <td>20</td>\n",
       "      <td>[npzTest]</td>\n",
       "      <td>4.042712</td>\n",
       "      <td>2</td>\n",
       "      <td>4648.0</td>\n",
       "    </tr>\n",
       "  </tbody>\n",
       "</table>\n",
       "</div>"
      ],
      "text/plain": [
       "          label   N  steps       tags  duration  sweeps  memory\n",
       "0  8f1f49c60b96  10     20  [npzTest]  4.042712       2  4648.0"
      ]
     },
     "execution_count": 35,
     "metadata": {},
     "output_type": "execute_result"
    }
   ],
   "source": [
    "df['memory']=memoryArray\n",
    "columns.append('memory')\n",
    "df[columns]"
   ]
  },
  {
   "cell_type": "code",
   "execution_count": 38,
   "metadata": {
    "collapsed": false
   },
   "outputs": [
    {
     "data": {
      "text/html": [
       "<div>\n",
       "<table border=\"1\" class=\"dataframe\">\n",
       "  <thead>\n",
       "    <tr style=\"text-align: right;\">\n",
       "      <th></th>\n",
       "      <th>a</th>\n",
       "      <th>b</th>\n",
       "    </tr>\n",
       "  </thead>\n",
       "  <tbody>\n",
       "    <tr>\n",
       "      <th>0</th>\n",
       "      <td>1</td>\n",
       "      <td>4</td>\n",
       "    </tr>\n",
       "    <tr>\n",
       "      <th>1</th>\n",
       "      <td>2</td>\n",
       "      <td>5</td>\n",
       "    </tr>\n",
       "    <tr>\n",
       "      <th>2</th>\n",
       "      <td>3</td>\n",
       "      <td>6</td>\n",
       "    </tr>\n",
       "  </tbody>\n",
       "</table>\n",
       "</div>"
      ],
      "text/plain": [
       "   a  b\n",
       "0  1  4\n",
       "1  2  5\n",
       "2  3  6"
      ]
     },
     "execution_count": 38,
     "metadata": {},
     "output_type": "execute_result"
    }
   ],
   "source": [
    "data = {'a' : [1, 2, 3], 'b' : [4, 5, 6]}\n",
    "pandas.DataFrame(data)"
   ]
  },
  {
   "cell_type": "code",
   "execution_count": 59,
   "metadata": {
    "collapsed": false
   },
   "outputs": [],
   "source": [
    "data = [{'a' : 1, 'b' : 4}, {'a' : 2, 'b' : 5}, {'a' : 3 ,'b' : 6}]\n",
    "aa  = pandas.DataFrame(data)"
   ]
  },
  {
   "cell_type": "code",
   "execution_count": 60,
   "metadata": {
    "collapsed": false
   },
   "outputs": [],
   "source": [
    "def recalc(row):\n",
    "    return row.b * 2"
   ]
  },
  {
   "cell_type": "code",
   "execution_count": 61,
   "metadata": {
    "collapsed": false
   },
   "outputs": [
    {
     "name": "stdout",
     "output_type": "stream",
     "text": [
      "   a  b\n",
      "0  1  4\n",
      "1  2  5\n",
      "2  3  6\n"
     ]
    }
   ],
   "source": [
    "print aa"
   ]
  },
  {
   "cell_type": "code",
   "execution_count": null,
   "metadata": {
    "collapsed": false
   },
   "outputs": [],
   "source": [
    "aa['c'] = [recalc(row) for index, row in aa.iterrows()]\n",
    "print aa"
   ]
  },
  {
   "cell_type": "code",
   "execution_count": 73,
   "metadata": {
    "collapsed": true
   },
   "outputs": [],
   "source": [
    "times = np.array([0., 1.0, 1.5])\n",
    "values = times**2\n"
   ]
  },
  {
   "cell_type": "code",
   "execution_count": null,
   "metadata": {
    "collapsed": false
   },
   "outputs": [],
   "source": [
    "%matplotlib inline\n",
    "import matplotlib.pyplot as plt\n",
    "plt.plot(times, values)"
   ]
  },
  {
   "cell_type": "code",
   "execution_count": null,
   "metadata": {
    "collapsed": false
   },
   "outputs": [],
   "source": [
    "import numpy as np\n",
    "np.linspace(0., 100., 1000)"
   ]
  },
  {
   "cell_type": "code",
   "execution_count": 83,
   "metadata": {
    "collapsed": false
   },
   "outputs": [
    {
     "name": "stdout",
     "output_type": "stream",
     "text": [
      "1a10x1step0.npz  1a10x1step10.npz  1a10x1step20.npz  memory_usage.txt\r\n"
     ]
    },
    {
     "data": {
      "text/plain": [
       "['Data/1de38ff12ec7/1a10x1step0.npz',\n",
       " 'Data/1de38ff12ec7/1a10x1step10.npz',\n",
       " 'Data/1de38ff12ec7/1a10x1step20.npz']"
      ]
     },
     "execution_count": 83,
     "metadata": {},
     "output_type": "execute_result"
    }
   ],
   "source": [
    "!ls Data/1de38ff12ec7/\n",
    "import glob\n",
    "glob.glob('Data/1de38ff12ec7/*.npz')"
   ]
  },
  {
   "cell_type": "code",
   "execution_count": null,
   "metadata": {
    "collapsed": true
   },
   "outputs": [],
   "source": []
  }
 ],
 "metadata": {
  "kernelspec": {
   "display_name": "Python 2",
   "language": "python",
   "name": "python2"
  },
  "language_info": {
   "codemirror_mode": {
    "name": "ipython",
    "version": 2
   },
   "file_extension": ".py",
   "mimetype": "text/x-python",
   "name": "python",
   "nbconvert_exporter": "python",
   "pygments_lexer": "ipython2",
   "version": "2.7.11"
  }
 },
 "nbformat": 4,
 "nbformat_minor": 0
}
